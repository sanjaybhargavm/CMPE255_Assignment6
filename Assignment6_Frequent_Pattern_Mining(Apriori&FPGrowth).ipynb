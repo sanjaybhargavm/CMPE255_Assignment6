{
  "nbformat": 4,
  "nbformat_minor": 0,
  "metadata": {
    "colab": {
      "provenance": []
    },
    "kernelspec": {
      "name": "python3",
      "display_name": "Python 3"
    },
    "language_info": {
      "name": "python"
    }
  },
  "cells": [
    {
      "cell_type": "markdown",
      "metadata": {
        "id": "view-in-github"
      },
      "source": [
        "<a href=\"https://colab.research.google.com/github/vishnuvryeruva/Frequent-Pattern-Mining/blob/main/Frequent_Pattern_Mining_(Apriori_%26_FP_Growth).ipynb\" target=\"_parent\"><img src=\"https://colab.research.google.com/assets/colab-badge.svg\" alt=\"Open In Colab\"/></a>"
      ]
    },
    {
      "cell_type": "code",
      "execution_count": 1,
      "metadata": {
        "colab": {
          "base_uri": "https://localhost:8080/"
        },
        "id": "qEcOW5MGOaSZ",
        "outputId": "2471419c-7766-4d23-e20d-c336a2260002"
      },
      "outputs": [
        {
          "output_type": "stream",
          "name": "stdout",
          "text": [
            "Looking in indexes: https://pypi.org/simple, https://us-python.pkg.dev/colab-wheels/public/simple/\n",
            "Requirement already satisfied: mlxtend in /usr/local/lib/python3.8/dist-packages (0.14.0)\n",
            "Collecting mlxtend\n",
            "  Downloading mlxtend-0.21.0-py2.py3-none-any.whl (1.3 MB)\n",
            "\u001b[K     |████████████████████████████████| 1.3 MB 2.2 MB/s \n",
            "\u001b[?25hRequirement already satisfied: joblib>=0.13.2 in /usr/local/lib/python3.8/dist-packages (from mlxtend) (1.2.0)\n",
            "Requirement already satisfied: matplotlib>=3.0.0 in /usr/local/lib/python3.8/dist-packages (from mlxtend) (3.2.2)\n",
            "Requirement already satisfied: pandas>=0.24.2 in /usr/local/lib/python3.8/dist-packages (from mlxtend) (1.3.5)\n",
            "Requirement already satisfied: scikit-learn>=1.0.2 in /usr/local/lib/python3.8/dist-packages (from mlxtend) (1.0.2)\n",
            "Requirement already satisfied: numpy>=1.16.2 in /usr/local/lib/python3.8/dist-packages (from mlxtend) (1.21.6)\n",
            "Requirement already satisfied: scipy>=1.2.1 in /usr/local/lib/python3.8/dist-packages (from mlxtend) (1.7.3)\n",
            "Requirement already satisfied: setuptools in /usr/local/lib/python3.8/dist-packages (from mlxtend) (57.4.0)\n",
            "Requirement already satisfied: pyparsing!=2.0.4,!=2.1.2,!=2.1.6,>=2.0.1 in /usr/local/lib/python3.8/dist-packages (from matplotlib>=3.0.0->mlxtend) (3.0.9)\n",
            "Requirement already satisfied: kiwisolver>=1.0.1 in /usr/local/lib/python3.8/dist-packages (from matplotlib>=3.0.0->mlxtend) (1.4.4)\n",
            "Requirement already satisfied: cycler>=0.10 in /usr/local/lib/python3.8/dist-packages (from matplotlib>=3.0.0->mlxtend) (0.11.0)\n",
            "Requirement already satisfied: python-dateutil>=2.1 in /usr/local/lib/python3.8/dist-packages (from matplotlib>=3.0.0->mlxtend) (2.8.2)\n",
            "Requirement already satisfied: pytz>=2017.3 in /usr/local/lib/python3.8/dist-packages (from pandas>=0.24.2->mlxtend) (2022.6)\n",
            "Requirement already satisfied: six>=1.5 in /usr/local/lib/python3.8/dist-packages (from python-dateutil>=2.1->matplotlib>=3.0.0->mlxtend) (1.15.0)\n",
            "Requirement already satisfied: threadpoolctl>=2.0.0 in /usr/local/lib/python3.8/dist-packages (from scikit-learn>=1.0.2->mlxtend) (3.1.0)\n",
            "Installing collected packages: mlxtend\n",
            "  Attempting uninstall: mlxtend\n",
            "    Found existing installation: mlxtend 0.14.0\n",
            "    Uninstalling mlxtend-0.14.0:\n",
            "      Successfully uninstalled mlxtend-0.14.0\n",
            "Successfully installed mlxtend-0.21.0\n"
          ]
        }
      ],
      "source": [
        "!pip install mlxtend --upgrade"
      ]
    },
    {
      "cell_type": "code",
      "source": [
        "import pandas as pd\n",
        "from mlxtend.preprocessing import TransactionEncoder\n",
        "from mlxtend.frequent_patterns import apriori, fpgrowth, association_rules"
      ],
      "metadata": {
        "id": "mJsnPUIsPA-A"
      },
      "execution_count": 2,
      "outputs": []
    },
    {
      "cell_type": "code",
      "source": [
        "dataset = pd.read_csv(\"/content/grocerydata.csv\")\n",
        "#dataset.head()\n",
        "dataset.itemDescription = [\"\".join(i.split(\",\")) for i in dataset.itemDescription]\n",
        "order_labels = dataset.Member_number.unique()"
      ],
      "metadata": {
        "id": "hfHTzcriPFnR"
      },
      "execution_count": 16,
      "outputs": []
    },
    {
      "cell_type": "code",
      "source": [
        "trans = [dataset[dataset.Member_number == i][\"itemDescription\"].tolist() for i in order_labels]\n",
        "trans_encoder = TransactionEncoder().fit(trans)\n",
        "trans = trans_encoder.transform(trans)\n",
        "trans = pd.DataFrame(trans,columns=trans_encoder.columns_)"
      ],
      "metadata": {
        "id": "DNvsIUeFQAbq"
      },
      "execution_count": 17,
      "outputs": []
    },
    {
      "cell_type": "code",
      "source": [
        "freq_items_apriori = apriori(trans, min_support = 0.0045, use_colnames = True)\n",
        "freq_items_fpgrowth = fpgrowth(trans, min_support = 0.0045, use_colnames=True)\n",
        "assoc_rules_apriori = association_rules(freq_items_apriori, metric = \"confidence\")\n",
        "assoc_rules_fpgrowth = association_rules(freq_items_fpgrowth, metric = \"confidence\")"
      ],
      "metadata": {
        "id": "aTQdO1I4QBcd"
      },
      "execution_count": 18,
      "outputs": []
    },
    {
      "cell_type": "code",
      "source": [
        "print(\"Association Rules build using Apriori Method:- \\n\")\n",
        "for item in assoc_rules_apriori.iterrows():\n",
        "  print(f\"Rule {item[0] + 1}: {tuple(item[1].antecedents)} -> {tuple(item[1].consequents)}\")\n",
        "  # print(item[1])"
      ],
      "metadata": {
        "colab": {
          "base_uri": "https://localhost:8080/"
        },
        "id": "pjWh7XL1QEbW",
        "outputId": "330de56b-3604-47ca-82b5-81e790e13178"
      },
      "execution_count": 19,
      "outputs": [
        {
          "output_type": "stream",
          "name": "stdout",
          "text": [
            "Association Rules build using Apriori Method:- \n",
            "\n",
            "Rule 1: ('meat spreads',) -> ('whole milk',)\n",
            "Rule 2: ('bottled water', 'canned vegetables') -> ('whole milk',)\n",
            "Rule 3: ('chewing gum', 'white bread') -> ('whole milk',)\n",
            "Rule 4: ('curd', 'ham') -> ('whole milk',)\n",
            "Rule 5: ('shopping bags', 'frozen fish') -> ('whole milk',)\n",
            "Rule 6: ('mayonnaise', 'other vegetables') -> ('whole milk',)\n",
            "Rule 7: ('soft cheese', 'sausage') -> ('whole milk',)\n",
            "Rule 8: ('citrus fruit', 'bottled beer', 'beef') -> ('whole milk',)\n",
            "Rule 9: ('root vegetables', 'bottled beer', 'beef') -> ('whole milk',)\n",
            "Rule 10: ('bottled water', 'pip fruit', 'berries') -> ('other vegetables',)\n",
            "Rule 11: ('yogurt', 'pip fruit', 'berries') -> ('whole milk',)\n",
            "Rule 12: ('yogurt', 'shopping bags', 'berries') -> ('whole milk',)\n",
            "Rule 13: ('brown bread', 'bottled beer', 'shopping bags') -> ('whole milk',)\n",
            "Rule 14: ('cat food', 'other vegetables', 'bottled beer') -> ('whole milk',)\n",
            "Rule 15: ('bottled water', 'margarine', 'newspapers') -> ('whole milk',)\n",
            "Rule 16: ('bottled water', 'other vegetables', 'specialty chocolate') -> ('whole milk',)\n",
            "Rule 17: ('brown bread', 'curd', 'canned beer') -> ('whole milk',)\n",
            "Rule 18: ('brown bread', 'curd', 'soda') -> ('whole milk',)\n",
            "Rule 19: ('meat', 'brown bread', 'other vegetables') -> ('whole milk',)\n",
            "Rule 20: ('butter milk', 'shopping bags', 'rolls/buns') -> ('whole milk',)\n",
            "Rule 21: ('yogurt', 'candy', 'citrus fruit') -> ('whole milk',)\n",
            "Rule 22: ('yogurt', 'cat food', 'sausage') -> ('other vegetables',)\n",
            "Rule 23: ('yogurt', 'cat food', 'sausage') -> ('whole milk',)\n",
            "Rule 24: ('yogurt', 'pastry', 'chocolate') -> ('whole milk',)\n",
            "Rule 25: ('yogurt', 'citrus fruit', 'ham') -> ('whole milk',)\n",
            "Rule 26: ('curd', 'soda', 'shopping bags') -> ('whole milk',)\n",
            "Rule 27: ('other vegetables', 'dessert', 'white bread') -> ('rolls/buns',)\n",
            "Rule 28: ('meat', 'other vegetables', 'domestic eggs') -> ('whole milk',)\n",
            "Rule 29: ('pastry', 'pip fruit', 'domestic eggs') -> ('whole milk',)\n",
            "Rule 30: ('yogurt', 'frozen vegetables', 'shopping bags') -> ('whole milk',)\n",
            "Rule 31: ('yogurt', 'pastry', 'ham') -> ('whole milk',)\n",
            "Rule 32: ('rolls/buns', 'root vegetables', 'ham') -> ('whole milk',)\n",
            "Rule 33: ('yogurt', 'root vegetables', 'ham') -> ('whole milk',)\n",
            "Rule 34: ('yogurt', 'newspapers', 'hamburger meat') -> ('whole milk',)\n",
            "Rule 35: ('soda', 'white bread', 'pork') -> ('whole milk',)\n",
            "Rule 36: ('sugar', 'root vegetables', 'rolls/buns') -> ('whole milk',)\n",
            "Rule 37: ('yogurt', 'citrus fruit', 'bottled beer', 'rolls/buns') -> ('whole milk',)\n",
            "Rule 38: ('yogurt', 'pastry', 'other vegetables', 'bottled beer') -> ('whole milk',)\n",
            "Rule 39: ('yogurt', 'other vegetables', 'bottled beer', 'rolls/buns') -> ('whole milk',)\n",
            "Rule 40: ('bottled water', 'tropical fruit', 'other vegetables', 'canned beer') -> ('whole milk',)\n",
            "Rule 41: ('yogurt', 'bottled water', 'other vegetables', 'frankfurter') -> ('whole milk',)\n",
            "Rule 42: ('yogurt', 'bottled water', 'other vegetables', 'pip fruit') -> ('whole milk',)\n",
            "Rule 43: ('yogurt', 'bottled water', 'pip fruit', 'rolls/buns') -> ('whole milk',)\n",
            "Rule 44: ('yogurt', 'bottled water', 'pip fruit', 'soda') -> ('whole milk',)\n",
            "Rule 45: ('yogurt', 'bottled water', 'root vegetables', 'rolls/buns') -> ('whole milk',)\n",
            "Rule 46: ('yogurt', 'brown bread', 'pastry', 'rolls/buns') -> ('whole milk',)\n",
            "Rule 47: ('brown bread', 'soda', 'shopping bags', 'rolls/buns') -> ('whole milk',)\n",
            "Rule 48: ('yogurt', 'brown bread', 'shopping bags', 'rolls/buns') -> ('whole milk',)\n",
            "Rule 49: ('yogurt', 'other vegetables', 'butter', 'whipped/sour cream') -> ('whole milk',)\n",
            "Rule 50: ('tropical fruit', 'other vegetables', 'soda', 'canned beer') -> ('whole milk',)\n",
            "Rule 51: ('yogurt', 'tropical fruit', 'other vegetables', 'canned beer') -> ('whole milk',)\n",
            "Rule 52: ('canned beer', 'soda', 'shopping bags', 'rolls/buns') -> ('whole milk',)\n",
            "Rule 53: ('coffee', 'other vegetables', 'sausage', 'rolls/buns') -> ('whole milk',)\n",
            "Rule 54: ('yogurt', 'pastry', 'other vegetables', 'rolls/buns') -> ('whole milk',)\n",
            "Rule 55: ('yogurt', 'pastry', 'other vegetables', 'whipped/sour cream') -> ('whole milk',)\n",
            "Rule 56: ('yogurt', 'other vegetables', 'soda', 'pork') -> ('whole milk',)\n",
            "Rule 57: ('yogurt', 'pastry', 'root vegetables', 'rolls/buns') -> ('whole milk',)\n",
            "Rule 58: ('yogurt', 'pip fruit', 'soda', 'pork') -> ('whole milk',)\n",
            "Rule 59: ('shopping bags', 'soda', 'pork', 'rolls/buns') -> ('whole milk',)\n"
          ]
        }
      ]
    },
    {
      "cell_type": "code",
      "source": [
        "print(\"Association Rules build using fpgrowth Method:- \\n\")\n",
        "for item in assoc_rules_fpgrowth.iterrows():\n",
        "  print(f\"Rule {item[0] + 1}: {tuple(item[1].antecedents)} -> {tuple(item[1].consequents)}\")\n",
        "  # print(item[1])"
      ],
      "metadata": {
        "colab": {
          "base_uri": "https://localhost:8080/"
        },
        "id": "bkZUBZLhQKvd",
        "outputId": "d26d5ea1-c1ee-478b-fa53-07c22066ea9f"
      },
      "execution_count": 20,
      "outputs": [
        {
          "output_type": "stream",
          "name": "stdout",
          "text": [
            "Association Rules build using fpgrowth Method:- \n",
            "\n",
            "Rule 1: ('sugar', 'root vegetables', 'rolls/buns') -> ('whole milk',)\n",
            "Rule 2: ('meat', 'other vegetables', 'domestic eggs') -> ('whole milk',)\n",
            "Rule 3: ('meat', 'brown bread', 'other vegetables') -> ('whole milk',)\n",
            "Rule 4: ('yogurt', 'candy', 'citrus fruit') -> ('whole milk',)\n",
            "Rule 5: ('yogurt', 'other vegetables', 'butter', 'whipped/sour cream') -> ('whole milk',)\n",
            "Rule 6: ('coffee', 'other vegetables', 'sausage', 'rolls/buns') -> ('whole milk',)\n",
            "Rule 7: ('yogurt', 'pastry', 'chocolate') -> ('whole milk',)\n",
            "Rule 8: ('yogurt', 'bottled water', 'other vegetables', 'pip fruit') -> ('whole milk',)\n",
            "Rule 9: ('yogurt', 'bottled water', 'pip fruit', 'rolls/buns') -> ('whole milk',)\n",
            "Rule 10: ('yogurt', 'bottled water', 'pip fruit', 'soda') -> ('whole milk',)\n",
            "Rule 11: ('yogurt', 'bottled water', 'other vegetables', 'frankfurter') -> ('whole milk',)\n",
            "Rule 12: ('yogurt', 'pip fruit', 'soda', 'pork') -> ('whole milk',)\n",
            "Rule 13: ('shopping bags', 'soda', 'pork', 'rolls/buns') -> ('whole milk',)\n",
            "Rule 14: ('yogurt', 'other vegetables', 'soda', 'pork') -> ('whole milk',)\n",
            "Rule 15: ('pastry', 'pip fruit', 'domestic eggs') -> ('whole milk',)\n",
            "Rule 16: ('soda', 'white bread', 'pork') -> ('whole milk',)\n",
            "Rule 17: ('yogurt', 'citrus fruit', 'ham') -> ('whole milk',)\n",
            "Rule 18: ('yogurt', 'pastry', 'ham') -> ('whole milk',)\n",
            "Rule 19: ('rolls/buns', 'root vegetables', 'ham') -> ('whole milk',)\n",
            "Rule 20: ('yogurt', 'root vegetables', 'ham') -> ('whole milk',)\n",
            "Rule 21: ('curd', 'ham') -> ('whole milk',)\n",
            "Rule 22: ('bottled water', 'tropical fruit', 'other vegetables', 'canned beer') -> ('whole milk',)\n",
            "Rule 23: ('canned beer', 'soda', 'shopping bags', 'rolls/buns') -> ('whole milk',)\n",
            "Rule 24: ('yogurt', 'tropical fruit', 'other vegetables', 'canned beer') -> ('whole milk',)\n",
            "Rule 25: ('tropical fruit', 'other vegetables', 'soda', 'canned beer') -> ('whole milk',)\n",
            "Rule 26: ('yogurt', 'other vegetables', 'bottled beer', 'rolls/buns') -> ('whole milk',)\n",
            "Rule 27: ('yogurt', 'citrus fruit', 'bottled beer', 'rolls/buns') -> ('whole milk',)\n",
            "Rule 28: ('yogurt', 'pastry', 'other vegetables', 'bottled beer') -> ('whole milk',)\n",
            "Rule 29: ('yogurt', 'newspapers', 'hamburger meat') -> ('whole milk',)\n",
            "Rule 30: ('butter milk', 'shopping bags', 'rolls/buns') -> ('whole milk',)\n",
            "Rule 31: ('yogurt', 'bottled water', 'root vegetables', 'rolls/buns') -> ('whole milk',)\n",
            "Rule 32: ('brown bread', 'soda', 'shopping bags', 'rolls/buns') -> ('whole milk',)\n",
            "Rule 33: ('yogurt', 'brown bread', 'shopping bags', 'rolls/buns') -> ('whole milk',)\n",
            "Rule 34: ('yogurt', 'brown bread', 'pastry', 'rolls/buns') -> ('whole milk',)\n",
            "Rule 35: ('brown bread', 'bottled beer', 'shopping bags') -> ('whole milk',)\n",
            "Rule 36: ('other vegetables', 'dessert', 'white bread') -> ('rolls/buns',)\n",
            "Rule 37: ('yogurt', 'shopping bags', 'berries') -> ('whole milk',)\n",
            "Rule 38: ('bottled water', 'pip fruit', 'berries') -> ('other vegetables',)\n",
            "Rule 39: ('yogurt', 'pip fruit', 'berries') -> ('whole milk',)\n",
            "Rule 40: ('yogurt', 'pastry', 'other vegetables', 'whipped/sour cream') -> ('whole milk',)\n",
            "Rule 41: ('chewing gum', 'white bread') -> ('whole milk',)\n",
            "Rule 42: ('yogurt', 'pastry', 'root vegetables', 'rolls/buns') -> ('whole milk',)\n",
            "Rule 43: ('yogurt', 'pastry', 'other vegetables', 'rolls/buns') -> ('whole milk',)\n",
            "Rule 44: ('root vegetables', 'bottled beer', 'beef') -> ('whole milk',)\n",
            "Rule 45: ('citrus fruit', 'bottled beer', 'beef') -> ('whole milk',)\n",
            "Rule 46: ('yogurt', 'frozen vegetables', 'shopping bags') -> ('whole milk',)\n",
            "Rule 47: ('bottled water', 'other vegetables', 'specialty chocolate') -> ('whole milk',)\n",
            "Rule 48: ('bottled water', 'margarine', 'newspapers') -> ('whole milk',)\n",
            "Rule 49: ('curd', 'soda', 'shopping bags') -> ('whole milk',)\n",
            "Rule 50: ('brown bread', 'curd', 'canned beer') -> ('whole milk',)\n",
            "Rule 51: ('brown bread', 'curd', 'soda') -> ('whole milk',)\n",
            "Rule 52: ('soft cheese', 'sausage') -> ('whole milk',)\n",
            "Rule 53: ('bottled water', 'canned vegetables') -> ('whole milk',)\n",
            "Rule 54: ('yogurt', 'cat food', 'sausage') -> ('other vegetables',)\n",
            "Rule 55: ('yogurt', 'cat food', 'sausage') -> ('whole milk',)\n",
            "Rule 56: ('cat food', 'other vegetables', 'bottled beer') -> ('whole milk',)\n",
            "Rule 57: ('meat spreads',) -> ('whole milk',)\n",
            "Rule 58: ('shopping bags', 'frozen fish') -> ('whole milk',)\n",
            "Rule 59: ('mayonnaise', 'other vegetables') -> ('whole milk',)\n"
          ]
        }
      ]
    }
  ]
}